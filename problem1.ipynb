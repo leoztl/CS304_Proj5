{
 "cells": [
  {
   "attachments": {},
   "cell_type": "markdown",
   "metadata": {},
   "source": [
    "# CS304 Project 5 Problem 1\n",
    "Author: Tianle Zhu"
   ]
  },
  {
   "attachments": {},
   "cell_type": "markdown",
   "metadata": {},
   "source": [
    "In project 5 problem 1, we are required to recognize continuous recording of 4-digit or 7-digit telephone numbers. \n",
    "\n",
    "### Our group's idea:\n",
    "* Connect the pre-trained digit model to form a graph\n",
    "* Perform DTW on the graph using similar strategy in Project 4\n",
    "* Need to implement non-emitting state\n",
    "* Need to allow skip of area code\n",
    "\n",
    "For the complete code of data structures and different levels of abstraction, please refer to *CDR.PY*.\n",
    "\n",
    "For the complete code of building specific graph for problem 1 and performing DTW, please refer to *problem1.py*.\n",
    "\n",
    "Blocks below show the testing results and accuracies."
   ]
  },
  {
   "cell_type": "code",
   "execution_count": 4,
   "metadata": {},
   "outputs": [],
   "source": [
    "import os\n",
    "import utils\n",
    "import CDR\n",
    "import mfcc\n",
    "import problem1"
   ]
  },
  {
   "attachments": {},
   "cell_type": "markdown",
   "metadata": {},
   "source": [
    "Read pre-recorded sentences. "
   ]
  },
  {
   "cell_type": "code",
   "execution_count": 5,
   "metadata": {},
   "outputs": [],
   "source": [
    "folderPath = \"./p1_sentence\"\n",
    "digit4 = []\n",
    "digit7 = []\n",
    "for file in os.listdir(folderPath):\n",
    "    name = file.split(\".\")[0]\n",
    "    if len(name) == 4:\n",
    "        digit4.append(file)\n",
    "    elif len(name) == 7:\n",
    "        digit7.append(file)\n",
    "    else:\n",
    "        print(\"Unexpected sentence length!\")\n",
    "all = digit4 + digit7"
   ]
  },
  {
   "attachments": {},
   "cell_type": "markdown",
   "metadata": {},
   "source": [
    "### Testing all sentences and calculate accuracy\n",
    "\n",
    "Below block defines the function to recognize single sentence. \n",
    "\n",
    "In calculating accuracy, we are also using DTW to align results and true answers to calculate the minimum edit distance and word error rate.\n",
    "\n",
    "For this DTW implementation, please refer to *utils.py*. "
   ]
  },
  {
   "cell_type": "code",
   "execution_count": 13,
   "metadata": {},
   "outputs": [],
   "source": [
    "def test(filename,verbose, force7digit):\n",
    "    \"\"\"Recognize a singel sentence and calculate accuracies\n",
    "    :param filename: target sentence name\n",
    "    :param verbose: if to print results\n",
    "    :param force7digit: if to force the model to have 7 digits\n",
    "    :return: correct digit number, total digit number, minimum edit distance, sentence correct rate\n",
    "    \"\"\"\n",
    "    # get correct answer from file name\n",
    "    answer = utils.parseSName(filename)\n",
    "    p1_folder = \"./p1_sentence\"\n",
    "    filepath = os.path.join(p1_folder, filename)\n",
    "    # calculate mfcc features\n",
    "    sentence = mfcc.mfcc_features(filepath, 40)\n",
    "    # build graph\n",
    "    startNull, branchNull = problem1.build47()\n",
    "    # flatten graph\n",
    "    node_ls, nodeNum = CDR.flatten(startNull)\n",
    "    # recognize sentence\n",
    "    result, seq = problem1.RSS(sentence, node_ls, nodeNum, branchNull, force7digit)\n",
    "    total = len(answer) # get total digit number\n",
    "    count = 0\n",
    "    # results and answers may have different length\n",
    "    for i in range(total):\n",
    "        try:\n",
    "            if answer[i] == result[i]:\n",
    "                count += 1\n",
    "        except:\n",
    "            break\n",
    "    minEditDis = utils.dtw(answer, result)\n",
    "    wre = minEditDis / total\n",
    "    if verbose:\n",
    "        print(\"Correct answer: \", answer)\n",
    "        print(\"Result: \", result)\n",
    "        print(\"Correct rate: {:.2f}\".format(count / total))\n",
    "        print(\"Minimum edit distance: {}\\nWord error rate: {:.2f}\".format(minEditDis, wre))\n",
    "        print(\"*\"*50)\n",
    "    if minEditDis == 0:\n",
    "        sentenceCorrect = 1\n",
    "    else:\n",
    "        sentenceCorrect = 0\n",
    "    return count, total, minEditDis, sentenceCorrect"
   ]
  },
  {
   "attachments": {},
   "cell_type": "markdown",
   "metadata": {},
   "source": [
    "Below block define the function to test a set of sentences. "
   ]
  },
  {
   "cell_type": "code",
   "execution_count": 11,
   "metadata": {},
   "outputs": [],
   "source": [
    "def testMany(testSet, verbose, force7digit=False):\n",
    "    \"\"\"Recognize a set of sentences one by one and print the results\n",
    "    :param testSet: sentence name list, digit4 or digit7 or all\n",
    "    :param force7digit: if to force the model to have 7 digits\n",
    "    :param verbose: if to print the results for each sentence during testing\n",
    "    \"\"\"\n",
    "    totalNum = 0\n",
    "    correctNum = 0\n",
    "    medSum = 0\n",
    "    s_correctNum = 0\n",
    "    for file in testSet:\n",
    "        count, total, minEditDis, sentenceCorrect= test(file, verbose, force7digit)\n",
    "        totalNum += total\n",
    "        correctNum += count\n",
    "        medSum += minEditDis\n",
    "        s_correctNum += sentenceCorrect\n",
    "    print(\"Sentence correct rate: {:.2f}\".format(s_correctNum/len(all)) )\n",
    "    print(\"Digit correct rate: {:.2f}\".format(correctNum/totalNum))\n",
    "    print(\"Word error rate: {:.2f}\".format(medSum/totalNum))"
   ]
  },
  {
   "attachments": {},
   "cell_type": "markdown",
   "metadata": {},
   "source": [
    "First, we test on all recordings. "
   ]
  },
  {
   "cell_type": "code",
   "execution_count": 12,
   "metadata": {},
   "outputs": [
    {
     "name": "stdout",
     "output_type": "stream",
     "text": [
      "Correct answer:  ['two', 'one', 'two', 'three']\n",
      "Result:  ['eight', 'one', 'six', 'six']\n",
      "Correct rate: 0.25\n",
      "Minimum edit distance: 3\n",
      "Word error rate: 0.75\n",
      "**************************************************\n",
      "Correct answer:  ['two', 'seven', 'nine', 'five']\n",
      "Result:  ['six', 'seven', 'nine', 'five']\n",
      "Correct rate: 0.75\n",
      "Minimum edit distance: 1\n",
      "Word error rate: 0.25\n",
      "**************************************************\n",
      "Correct answer:  ['two', 'nine', 'nine', 'three']\n",
      "Result:  ['two', 'nine', 'nine', 'six']\n",
      "Correct rate: 0.75\n",
      "Minimum edit distance: 1\n",
      "Word error rate: 0.25\n",
      "**************************************************\n",
      "Correct answer:  ['three', 'three', 'three', 'three']\n",
      "Result:  ['three', 'three', 'three', 'three']\n",
      "Correct rate: 1.00\n",
      "Minimum edit distance: 0\n",
      "Word error rate: 0.00\n",
      "**************************************************\n",
      "Correct answer:  ['four', 'four', 'four', 'four']\n",
      "Result:  ['four', 'four', 'four', 'six']\n",
      "Correct rate: 0.75\n",
      "Minimum edit distance: 1\n",
      "Word error rate: 0.25\n",
      "**************************************************\n",
      "Correct answer:  ['four', 'five', 'three', 'two']\n",
      "Result:  ['four', 'six', 'two', 'six']\n",
      "Correct rate: 0.25\n",
      "Minimum edit distance: 3\n",
      "Word error rate: 0.75\n",
      "**************************************************\n",
      "Correct answer:  ['four', 'five', 'six', 'seven']\n",
      "Result:  ['four', 'five', 'six', 'seven']\n",
      "Correct rate: 1.00\n",
      "Minimum edit distance: 0\n",
      "Word error rate: 0.00\n",
      "**************************************************\n",
      "Correct answer:  ['five', 'four', 'three', 'two']\n",
      "Result:  ['nine', 'four', 'six', 'eight']\n",
      "Correct rate: 0.25\n",
      "Minimum edit distance: 3\n",
      "Word error rate: 0.75\n",
      "**************************************************\n",
      "Correct answer:  ['five', 'five', 'five', 'five']\n",
      "Result:  ['five', 'five', 'five', 'five']\n",
      "Correct rate: 1.00\n",
      "Minimum edit distance: 0\n",
      "Word error rate: 0.00\n",
      "**************************************************\n",
      "Correct answer:  ['six', 'six', 'six', 'six']\n",
      "Result:  ['six', 'six', 'six', 'six']\n",
      "Correct rate: 1.00\n",
      "Minimum edit distance: 0\n",
      "Word error rate: 0.00\n",
      "**************************************************\n",
      "Correct answer:  ['eight', 'eight', 'eight', 'eight']\n",
      "Result:  ['eight', 'eight', 'eight', 'eight']\n",
      "Correct rate: 1.00\n",
      "Minimum edit distance: 0\n",
      "Word error rate: 0.00\n",
      "**************************************************\n",
      "Correct answer:  ['nine', 'seven', 'five', 'three']\n",
      "Result:  ['nine', 'nine', 'nine', 'six']\n",
      "Correct rate: 0.25\n",
      "Minimum edit distance: 3\n",
      "Word error rate: 0.75\n",
      "**************************************************\n",
      "Correct answer:  ['nine', 'eight', 'seven', 'six']\n",
      "Result:  ['nine', 'six', 'eight', 'six']\n",
      "Correct rate: 0.50\n",
      "Minimum edit distance: 2\n",
      "Word error rate: 0.50\n",
      "**************************************************\n",
      "Correct answer:  ['two', 'one', 'two', 'three', 'four', 'five', 'six']\n",
      "Result:  ['eight', 'eight', 'six', 'six']\n",
      "Correct rate: 0.00\n",
      "Minimum edit distance: 6\n",
      "Word error rate: 0.86\n",
      "**************************************************\n",
      "Correct answer:  ['two', 'three', 'four', 'five', 'five', 'five', 'five']\n",
      "Result:  ['nine', 'five', 'six', 'five']\n",
      "Correct rate: 0.14\n",
      "Minimum edit distance: 5\n",
      "Word error rate: 0.71\n",
      "**************************************************\n",
      "Correct answer:  ['two', 'three', 'four', 'five', 'five', 'seven', 'eight']\n",
      "Result:  ['six', 'nine', 'seven', 'six']\n",
      "Correct rate: 0.00\n",
      "Minimum edit distance: 6\n",
      "Word error rate: 0.86\n",
      "**************************************************\n",
      "Correct answer:  ['two', 'four', 'five', 'seven', 'eight', 'nine', 'two']\n",
      "Result:  ['six', 'six', 'nine', 'six']\n",
      "Correct rate: 0.00\n",
      "Minimum edit distance: 6\n",
      "Word error rate: 0.86\n",
      "**************************************************\n",
      "Correct answer:  ['three', 'three', 'three', 'three', 'three', 'three', 'three']\n",
      "Result:  ['six', 'six', 'six', 'eight']\n",
      "Correct rate: 0.00\n",
      "Minimum edit distance: 7\n",
      "Word error rate: 1.00\n",
      "**************************************************\n",
      "Correct answer:  ['three', 'four', 'five', 'seven', 'eight', 'nine', 'six']\n",
      "Result:  ['three', 'six', 'nine', 'seven', 'eight', 'nine', 'eight']\n",
      "Correct rate: 0.57\n",
      "Minimum edit distance: 3\n",
      "Word error rate: 0.43\n",
      "**************************************************\n",
      "Correct answer:  ['three', 'five', 'seven', 'nine', 'nine', 'seven', 'five']\n",
      "Result:  ['three', 'nine', 'seven', 'nine', 'nine', 'six', 'five']\n",
      "Correct rate: 0.71\n",
      "Minimum edit distance: 2\n",
      "Word error rate: 0.29\n",
      "**************************************************\n",
      "Correct answer:  ['four', 'seven', 'eight', 'nine', 'six', 'one', 'two']\n",
      "Result:  ['six', 'six', 'one', 'eight']\n",
      "Correct rate: 0.00\n",
      "Minimum edit distance: 5\n",
      "Word error rate: 0.71\n",
      "**************************************************\n",
      "Correct answer:  ['five', 'five', 'five', 'five', 'five', 'five', 'five']\n",
      "Result:  ['five', 'five', 'nine', 'nine', 'five', 'nine', 'five']\n",
      "Correct rate: 0.57\n",
      "Minimum edit distance: 3\n",
      "Word error rate: 0.43\n",
      "**************************************************\n",
      "Correct answer:  ['five', 'five', 'five', 'six', 'six', 'six', 'six']\n",
      "Result:  ['five', 'five', 'six', 'six']\n",
      "Correct rate: 0.43\n",
      "Minimum edit distance: 3\n",
      "Word error rate: 0.43\n",
      "**************************************************\n",
      "Correct answer:  ['seven', 'eight', 'nine', 'four', 'five', 'one', 'two']\n",
      "Result:  ['six', 'nine', 'one', 'two']\n",
      "Correct rate: 0.00\n",
      "Minimum edit distance: 4\n",
      "Word error rate: 0.57\n",
      "**************************************************\n",
      "Correct answer:  ['seven', 'nine', 'four', 'five', 'one', 'two', 'three']\n",
      "Result:  ['six', 'one', 'two', 'six']\n",
      "Correct rate: 0.00\n",
      "Minimum edit distance: 5\n",
      "Word error rate: 0.71\n",
      "**************************************************\n",
      "Correct answer:  ['nine', 'eight', 'seven', 'six', 'five', 'four', 'three']\n",
      "Result:  ['eight', 'six', 'eight', 'six']\n",
      "Correct rate: 0.14\n",
      "Minimum edit distance: 5\n",
      "Word error rate: 0.71\n",
      "**************************************************\n",
      "Sentence correct rate: 0.19\n",
      "Digit correct rate: 0.37\n",
      "Word error rate: 0.54\n"
     ]
    }
   ],
   "source": [
    "testMany(all, True)"
   ]
  },
  {
   "attachments": {},
   "cell_type": "markdown",
   "metadata": {},
   "source": [
    "The sentence accuracy is ***0.19***.\n",
    "\n",
    "The digit correct rate is ***0.37***.\n",
    "\n",
    "The word error rate is ***0.54***. "
   ]
  },
  {
   "attachments": {},
   "cell_type": "markdown",
   "metadata": {},
   "source": [
    "The results is not so good. We can also notice that most 7-digit sentence are recognized as 4-digit sentence. Thus, the digit accuracy is not that meaningful and word error rate should be a better reference. \n",
    "\n",
    "Then, we test separately on 4-digit and 7-digit sentences. "
   ]
  },
  {
   "attachments": {},
   "cell_type": "markdown",
   "metadata": {},
   "source": [
    "First, we test solely on 4-digit sentences. "
   ]
  },
  {
   "cell_type": "code",
   "execution_count": 10,
   "metadata": {},
   "outputs": [
    {
     "name": "stdout",
     "output_type": "stream",
     "text": [
      "Sentence correct rate: 0.19\n",
      "Digit correct rate: 0.67\n",
      "Word error rate: 0.33\n"
     ]
    }
   ],
   "source": [
    "testMany(digit4,False)"
   ]
  },
  {
   "attachments": {},
   "cell_type": "markdown",
   "metadata": {},
   "source": [
    "We can see that the results improves and word error rate drops by around ***0.2***. \n",
    "\n",
    "Then we test solely on 7-digit sentences. "
   ]
  },
  {
   "cell_type": "code",
   "execution_count": 11,
   "metadata": {},
   "outputs": [
    {
     "name": "stdout",
     "output_type": "stream",
     "text": [
      "Sentence correct rate: 0.00\n",
      "Digit correct rate: 0.20\n",
      "Word error rate: 0.66\n"
     ]
    }
   ],
   "source": [
    "testMany(digit7,False)"
   ]
  },
  {
   "attachments": {},
   "cell_type": "markdown",
   "metadata": {},
   "source": [
    "The results is bad. But this is what we can forsee from our first testing results. \n",
    "\n",
    "Then we test on 7-digit sentences again, but this time, we force the model to output 7-digit sentence. "
   ]
  },
  {
   "cell_type": "code",
   "execution_count": 12,
   "metadata": {},
   "outputs": [
    {
     "name": "stdout",
     "output_type": "stream",
     "text": [
      "Sentence correct rate: 0.00\n",
      "Digit correct rate: 0.40\n",
      "Word error rate: 0.54\n"
     ]
    }
   ],
   "source": [
    "testMany(digit7, False, True)"
   ]
  },
  {
   "attachments": {},
   "cell_type": "markdown",
   "metadata": {},
   "source": [
    "The accuracy improves, but still not very good. "
   ]
  },
  {
   "attachments": {},
   "cell_type": "markdown",
   "metadata": {},
   "source": [
    "To account for the poor accuracy our model yield, we think it is mostly likely attributed to the pre-trained model of separate digits. \n",
    "\n",
    "And since we use models of separate digit to recognize continuous speech, the problem of pre-trained models get amplified. "
   ]
  }
 ],
 "metadata": {
  "kernelspec": {
   "display_name": "base",
   "language": "python",
   "name": "python3"
  },
  "language_info": {
   "codemirror_mode": {
    "name": "ipython",
    "version": 3
   },
   "file_extension": ".py",
   "mimetype": "text/x-python",
   "name": "python",
   "nbconvert_exporter": "python",
   "pygments_lexer": "ipython3",
   "version": "3.9.7"
  },
  "orig_nbformat": 4,
  "vscode": {
   "interpreter": {
    "hash": "d7288e82646d3164eca24130947288f8779d11454649f2c02a5dfc42af7f324c"
   }
  }
 },
 "nbformat": 4,
 "nbformat_minor": 2
}
